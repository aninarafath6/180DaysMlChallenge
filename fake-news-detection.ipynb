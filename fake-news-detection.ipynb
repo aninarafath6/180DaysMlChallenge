{
 "cells": [
  {
   "cell_type": "code",
   "execution_count": 1,
   "id": "24b2cc23",
   "metadata": {
    "_cell_guid": "b1076dfc-b9ad-4769-8c92-a6c4dae69d19",
    "_uuid": "8f2839f25d086af736a60e9eeb907d3b93b6e0e5",
    "execution": {
     "iopub.execute_input": "2023-05-07T02:55:56.440450Z",
     "iopub.status.busy": "2023-05-07T02:55:56.439526Z",
     "iopub.status.idle": "2023-05-07T02:55:58.244171Z",
     "shell.execute_reply": "2023-05-07T02:55:58.243200Z"
    },
    "papermill": {
     "duration": 1.815202,
     "end_time": "2023-05-07T02:55:58.246791",
     "exception": false,
     "start_time": "2023-05-07T02:55:56.431589",
     "status": "completed"
    },
    "tags": []
   },
   "outputs": [
    {
     "name": "stderr",
     "output_type": "stream",
     "text": [
      "/opt/conda/lib/python3.10/site-packages/scipy/__init__.py:146: UserWarning: A NumPy version >=1.16.5 and <1.23.0 is required for this version of SciPy (detected version 1.23.5\n",
      "  warnings.warn(f\"A NumPy version >={np_minversion} and <{np_maxversion}\"\n"
     ]
    }
   ],
   "source": [
    "# Essential Packages\n",
    "import pandas as pd\n",
    "import numpy as np\n",
    "from nltk.corpus import stopwords\n",
    "from nltk.stem.porter import PorterStemmer\n",
    "from sklearn.feature_extraction.text import TfidfVectorizer\n",
    "from sklearn.model_selection import train_test_split\n",
    "from sklearn.linear_model import LogisticRegression\n",
    "from sklearn.metrics import accuracy_score\n",
    "import re\n",
    "\n"
   ]
  },
  {
   "cell_type": "markdown",
   "id": "a452ec83",
   "metadata": {
    "papermill": {
     "duration": 0.005255,
     "end_time": "2023-05-07T02:55:58.257880",
     "exception": false,
     "start_time": "2023-05-07T02:55:58.252625",
     "status": "completed"
    },
    "tags": []
   },
   "source": [
    "## **`Data Collection and Preproccessing`**"
   ]
  },
  {
   "cell_type": "code",
   "execution_count": 2,
   "id": "8aea0aa8",
   "metadata": {
    "execution": {
     "iopub.execute_input": "2023-05-07T02:55:58.271429Z",
     "iopub.status.busy": "2023-05-07T02:55:58.270449Z",
     "iopub.status.idle": "2023-05-07T02:55:58.385996Z",
     "shell.execute_reply": "2023-05-07T02:55:58.384866Z"
    },
    "papermill": {
     "duration": 0.125064,
     "end_time": "2023-05-07T02:55:58.388408",
     "exception": false,
     "start_time": "2023-05-07T02:55:58.263344",
     "status": "completed"
    },
    "tags": []
   },
   "outputs": [
    {
     "name": "stdout",
     "output_type": "stream",
     "text": [
      "[nltk_data] Downloading package stopwords to /usr/share/nltk_data...\n",
      "[nltk_data]   Package stopwords is already up-to-date!\n"
     ]
    },
    {
     "data": {
      "text/plain": [
       "True"
      ]
     },
     "execution_count": 2,
     "metadata": {},
     "output_type": "execute_result"
    }
   ],
   "source": [
    "import nltk\n",
    "nltk.download(\"stopwords\")"
   ]
  },
  {
   "cell_type": "code",
   "execution_count": 3,
   "id": "328bf95b",
   "metadata": {
    "execution": {
     "iopub.execute_input": "2023-05-07T02:55:58.401855Z",
     "iopub.status.busy": "2023-05-07T02:55:58.401445Z",
     "iopub.status.idle": "2023-05-07T02:55:58.410539Z",
     "shell.execute_reply": "2023-05-07T02:55:58.409162Z"
    },
    "papermill": {
     "duration": 0.01837,
     "end_time": "2023-05-07T02:55:58.412804",
     "exception": false,
     "start_time": "2023-05-07T02:55:58.394434",
     "status": "completed"
    },
    "tags": []
   },
   "outputs": [
    {
     "name": "stdout",
     "output_type": "stream",
     "text": [
      "['i', 'me', 'my', 'myself', 'we', 'our', 'ours', 'ourselves', 'you', \"you're\", \"you've\", \"you'll\", \"you'd\", 'your', 'yours', 'yourself', 'yourselves', 'he', 'him', 'his', 'himself', 'she', \"she's\", 'her', 'hers', 'herself', 'it', \"it's\", 'its', 'itself', 'they', 'them', 'their', 'theirs', 'themselves', 'what', 'which', 'who', 'whom', 'this', 'that', \"that'll\", 'these', 'those', 'am', 'is', 'are', 'was', 'were', 'be', 'been', 'being', 'have', 'has', 'had', 'having', 'do', 'does', 'did', 'doing', 'a', 'an', 'the', 'and', 'but', 'if', 'or', 'because', 'as', 'until', 'while', 'of', 'at', 'by', 'for', 'with', 'about', 'against', 'between', 'into', 'through', 'during', 'before', 'after', 'above', 'below', 'to', 'from', 'up', 'down', 'in', 'out', 'on', 'off', 'over', 'under', 'again', 'further', 'then', 'once', 'here', 'there', 'when', 'where', 'why', 'how', 'all', 'any', 'both', 'each', 'few', 'more', 'most', 'other', 'some', 'such', 'no', 'nor', 'not', 'only', 'own', 'same', 'so', 'than', 'too', 'very', 's', 't', 'can', 'will', 'just', 'don', \"don't\", 'should', \"should've\", 'now', 'd', 'll', 'm', 'o', 're', 've', 'y', 'ain', 'aren', \"aren't\", 'couldn', \"couldn't\", 'didn', \"didn't\", 'doesn', \"doesn't\", 'hadn', \"hadn't\", 'hasn', \"hasn't\", 'haven', \"haven't\", 'isn', \"isn't\", 'ma', 'mightn', \"mightn't\", 'mustn', \"mustn't\", 'needn', \"needn't\", 'shan', \"shan't\", 'shouldn', \"shouldn't\", 'wasn', \"wasn't\", 'weren', \"weren't\", 'won', \"won't\", 'wouldn', \"wouldn't\"]\n",
      "179\n"
     ]
    }
   ],
   "source": [
    "# Print all the stopwords\n",
    "print(stopwords.words(\"english\"))\n",
    "print(len(stopwords.words(\"english\")))"
   ]
  },
  {
   "cell_type": "code",
   "execution_count": 4,
   "id": "384beff8",
   "metadata": {
    "execution": {
     "iopub.execute_input": "2023-05-07T02:55:58.426506Z",
     "iopub.status.busy": "2023-05-07T02:55:58.426135Z",
     "iopub.status.idle": "2023-05-07T02:56:01.150140Z",
     "shell.execute_reply": "2023-05-07T02:56:01.149054Z"
    },
    "papermill": {
     "duration": 2.734058,
     "end_time": "2023-05-07T02:56:01.152702",
     "exception": false,
     "start_time": "2023-05-07T02:55:58.418644",
     "status": "completed"
    },
    "tags": []
   },
   "outputs": [
    {
     "data": {
      "text/html": [
       "<div>\n",
       "<style scoped>\n",
       "    .dataframe tbody tr th:only-of-type {\n",
       "        vertical-align: middle;\n",
       "    }\n",
       "\n",
       "    .dataframe tbody tr th {\n",
       "        vertical-align: top;\n",
       "    }\n",
       "\n",
       "    .dataframe thead th {\n",
       "        text-align: right;\n",
       "    }\n",
       "</style>\n",
       "<table border=\"1\" class=\"dataframe\">\n",
       "  <thead>\n",
       "    <tr style=\"text-align: right;\">\n",
       "      <th></th>\n",
       "      <th>id</th>\n",
       "      <th>title</th>\n",
       "      <th>author</th>\n",
       "      <th>text</th>\n",
       "      <th>label</th>\n",
       "    </tr>\n",
       "  </thead>\n",
       "  <tbody>\n",
       "    <tr>\n",
       "      <th>0</th>\n",
       "      <td>0</td>\n",
       "      <td>House Dem Aide: We Didn’t Even See Comey’s Let...</td>\n",
       "      <td>Darrell Lucus</td>\n",
       "      <td>House Dem Aide: We Didn’t Even See Comey’s Let...</td>\n",
       "      <td>1</td>\n",
       "    </tr>\n",
       "    <tr>\n",
       "      <th>1</th>\n",
       "      <td>1</td>\n",
       "      <td>FLYNN: Hillary Clinton, Big Woman on Campus - ...</td>\n",
       "      <td>Daniel J. Flynn</td>\n",
       "      <td>Ever get the feeling your life circles the rou...</td>\n",
       "      <td>0</td>\n",
       "    </tr>\n",
       "    <tr>\n",
       "      <th>2</th>\n",
       "      <td>2</td>\n",
       "      <td>Why the Truth Might Get You Fired</td>\n",
       "      <td>Consortiumnews.com</td>\n",
       "      <td>Why the Truth Might Get You Fired October 29, ...</td>\n",
       "      <td>1</td>\n",
       "    </tr>\n",
       "    <tr>\n",
       "      <th>3</th>\n",
       "      <td>3</td>\n",
       "      <td>15 Civilians Killed In Single US Airstrike Hav...</td>\n",
       "      <td>Jessica Purkiss</td>\n",
       "      <td>Videos 15 Civilians Killed In Single US Airstr...</td>\n",
       "      <td>1</td>\n",
       "    </tr>\n",
       "    <tr>\n",
       "      <th>4</th>\n",
       "      <td>4</td>\n",
       "      <td>Iranian woman jailed for fictional unpublished...</td>\n",
       "      <td>Howard Portnoy</td>\n",
       "      <td>Print \\nAn Iranian woman has been sentenced to...</td>\n",
       "      <td>1</td>\n",
       "    </tr>\n",
       "  </tbody>\n",
       "</table>\n",
       "</div>"
      ],
      "text/plain": [
       "   id                                              title              author  \\\n",
       "0   0  House Dem Aide: We Didn’t Even See Comey’s Let...       Darrell Lucus   \n",
       "1   1  FLYNN: Hillary Clinton, Big Woman on Campus - ...     Daniel J. Flynn   \n",
       "2   2                  Why the Truth Might Get You Fired  Consortiumnews.com   \n",
       "3   3  15 Civilians Killed In Single US Airstrike Hav...     Jessica Purkiss   \n",
       "4   4  Iranian woman jailed for fictional unpublished...      Howard Portnoy   \n",
       "\n",
       "                                                text  label  \n",
       "0  House Dem Aide: We Didn’t Even See Comey’s Let...      1  \n",
       "1  Ever get the feeling your life circles the rou...      0  \n",
       "2  Why the Truth Might Get You Fired October 29, ...      1  \n",
       "3  Videos 15 Civilians Killed In Single US Airstr...      1  \n",
       "4  Print \\nAn Iranian woman has been sentenced to...      1  "
      ]
     },
     "execution_count": 4,
     "metadata": {},
     "output_type": "execute_result"
    }
   ],
   "source": [
    "news_df = pd.read_csv(\"/kaggle/input/news-data-anin/fake_news.csv\")\n",
    "news_df.head()"
   ]
  },
  {
   "cell_type": "code",
   "execution_count": 5,
   "id": "cf4856aa",
   "metadata": {
    "execution": {
     "iopub.execute_input": "2023-05-07T02:56:01.166104Z",
     "iopub.status.busy": "2023-05-07T02:56:01.165703Z",
     "iopub.status.idle": "2023-05-07T02:56:01.170982Z",
     "shell.execute_reply": "2023-05-07T02:56:01.170156Z"
    },
    "papermill": {
     "duration": 0.014751,
     "end_time": "2023-05-07T02:56:01.173390",
     "exception": false,
     "start_time": "2023-05-07T02:56:01.158639",
     "status": "completed"
    },
    "tags": []
   },
   "outputs": [
    {
     "name": "stdout",
     "output_type": "stream",
     "text": [
      "shape: (20800, 5)\n"
     ]
    }
   ],
   "source": [
    "print(\"shape: {}\".format(news_df.shape))"
   ]
  },
  {
   "cell_type": "code",
   "execution_count": 6,
   "id": "b866518d",
   "metadata": {
    "execution": {
     "iopub.execute_input": "2023-05-07T02:56:01.187336Z",
     "iopub.status.busy": "2023-05-07T02:56:01.186946Z",
     "iopub.status.idle": "2023-05-07T02:56:01.210912Z",
     "shell.execute_reply": "2023-05-07T02:56:01.209883Z"
    },
    "papermill": {
     "duration": 0.033679,
     "end_time": "2023-05-07T02:56:01.213190",
     "exception": false,
     "start_time": "2023-05-07T02:56:01.179511",
     "status": "completed"
    },
    "tags": []
   },
   "outputs": [
    {
     "data": {
      "text/plain": [
       "id           0\n",
       "title      558\n",
       "author    1957\n",
       "text        39\n",
       "label        0\n",
       "dtype: int64"
      ]
     },
     "execution_count": 6,
     "metadata": {},
     "output_type": "execute_result"
    }
   ],
   "source": [
    "# check number of missing values \n",
    "news_df.isna().sum()"
   ]
  },
  {
   "cell_type": "code",
   "execution_count": 7,
   "id": "1b20bbec",
   "metadata": {
    "execution": {
     "iopub.execute_input": "2023-05-07T02:56:01.227473Z",
     "iopub.status.busy": "2023-05-07T02:56:01.226520Z",
     "iopub.status.idle": "2023-05-07T02:56:01.262710Z",
     "shell.execute_reply": "2023-05-07T02:56:01.261575Z"
    },
    "papermill": {
     "duration": 0.045942,
     "end_time": "2023-05-07T02:56:01.265189",
     "exception": false,
     "start_time": "2023-05-07T02:56:01.219247",
     "status": "completed"
    },
    "tags": []
   },
   "outputs": [
    {
     "data": {
      "text/plain": [
       "id        0\n",
       "title     0\n",
       "author    0\n",
       "text      0\n",
       "label     0\n",
       "dtype: int64"
      ]
     },
     "execution_count": 7,
     "metadata": {},
     "output_type": "execute_result"
    }
   ],
   "source": [
    "# replacing null values with empty string\n",
    "news_df =news_df.fillna(\"\")\n",
    "news_df.isna().sum()\n"
   ]
  },
  {
   "cell_type": "code",
   "execution_count": 8,
   "id": "7c729435",
   "metadata": {
    "execution": {
     "iopub.execute_input": "2023-05-07T02:56:01.279373Z",
     "iopub.status.busy": "2023-05-07T02:56:01.278745Z",
     "iopub.status.idle": "2023-05-07T02:56:01.473314Z",
     "shell.execute_reply": "2023-05-07T02:56:01.472240Z"
    },
    "papermill": {
     "duration": 0.204229,
     "end_time": "2023-05-07T02:56:01.475625",
     "exception": false,
     "start_time": "2023-05-07T02:56:01.271396",
     "status": "completed"
    },
    "tags": []
   },
   "outputs": [
    {
     "data": {
      "text/html": [
       "<div>\n",
       "<style scoped>\n",
       "    .dataframe tbody tr th:only-of-type {\n",
       "        vertical-align: middle;\n",
       "    }\n",
       "\n",
       "    .dataframe tbody tr th {\n",
       "        vertical-align: top;\n",
       "    }\n",
       "\n",
       "    .dataframe thead th {\n",
       "        text-align: right;\n",
       "    }\n",
       "</style>\n",
       "<table border=\"1\" class=\"dataframe\">\n",
       "  <thead>\n",
       "    <tr style=\"text-align: right;\">\n",
       "      <th></th>\n",
       "      <th>id</th>\n",
       "      <th>title</th>\n",
       "      <th>author</th>\n",
       "      <th>text</th>\n",
       "      <th>label</th>\n",
       "      <th>content</th>\n",
       "    </tr>\n",
       "  </thead>\n",
       "  <tbody>\n",
       "    <tr>\n",
       "      <th>0</th>\n",
       "      <td>0</td>\n",
       "      <td>House Dem Aide: We Didn’t Even See Comey’s Let...</td>\n",
       "      <td>Darrell Lucus</td>\n",
       "      <td>House Dem Aide: We Didn’t Even See Comey’s Let...</td>\n",
       "      <td>1</td>\n",
       "      <td>Darrell LucusHouse Dem Aide: We Didn’t Even Se...</td>\n",
       "    </tr>\n",
       "    <tr>\n",
       "      <th>1</th>\n",
       "      <td>1</td>\n",
       "      <td>FLYNN: Hillary Clinton, Big Woman on Campus - ...</td>\n",
       "      <td>Daniel J. Flynn</td>\n",
       "      <td>Ever get the feeling your life circles the rou...</td>\n",
       "      <td>0</td>\n",
       "      <td>Daniel J. FlynnFLYNN: Hillary Clinton, Big Wom...</td>\n",
       "    </tr>\n",
       "    <tr>\n",
       "      <th>2</th>\n",
       "      <td>2</td>\n",
       "      <td>Why the Truth Might Get You Fired</td>\n",
       "      <td>Consortiumnews.com</td>\n",
       "      <td>Why the Truth Might Get You Fired October 29, ...</td>\n",
       "      <td>1</td>\n",
       "      <td>Consortiumnews.comWhy the Truth Might Get You ...</td>\n",
       "    </tr>\n",
       "    <tr>\n",
       "      <th>3</th>\n",
       "      <td>3</td>\n",
       "      <td>15 Civilians Killed In Single US Airstrike Hav...</td>\n",
       "      <td>Jessica Purkiss</td>\n",
       "      <td>Videos 15 Civilians Killed In Single US Airstr...</td>\n",
       "      <td>1</td>\n",
       "      <td>Jessica Purkiss15 Civilians Killed In Single U...</td>\n",
       "    </tr>\n",
       "    <tr>\n",
       "      <th>4</th>\n",
       "      <td>4</td>\n",
       "      <td>Iranian woman jailed for fictional unpublished...</td>\n",
       "      <td>Howard Portnoy</td>\n",
       "      <td>Print \\nAn Iranian woman has been sentenced to...</td>\n",
       "      <td>1</td>\n",
       "      <td>Howard PortnoyIranian woman jailed for fiction...</td>\n",
       "    </tr>\n",
       "  </tbody>\n",
       "</table>\n",
       "</div>"
      ],
      "text/plain": [
       "   id                                              title              author  \\\n",
       "0   0  House Dem Aide: We Didn’t Even See Comey’s Let...       Darrell Lucus   \n",
       "1   1  FLYNN: Hillary Clinton, Big Woman on Campus - ...     Daniel J. Flynn   \n",
       "2   2                  Why the Truth Might Get You Fired  Consortiumnews.com   \n",
       "3   3  15 Civilians Killed In Single US Airstrike Hav...     Jessica Purkiss   \n",
       "4   4  Iranian woman jailed for fictional unpublished...      Howard Portnoy   \n",
       "\n",
       "                                                text  label  \\\n",
       "0  House Dem Aide: We Didn’t Even See Comey’s Let...      1   \n",
       "1  Ever get the feeling your life circles the rou...      0   \n",
       "2  Why the Truth Might Get You Fired October 29, ...      1   \n",
       "3  Videos 15 Civilians Killed In Single US Airstr...      1   \n",
       "4  Print \\nAn Iranian woman has been sentenced to...      1   \n",
       "\n",
       "                                             content  \n",
       "0  Darrell LucusHouse Dem Aide: We Didn’t Even Se...  \n",
       "1  Daniel J. FlynnFLYNN: Hillary Clinton, Big Wom...  \n",
       "2  Consortiumnews.comWhy the Truth Might Get You ...  \n",
       "3  Jessica Purkiss15 Civilians Killed In Single U...  \n",
       "4  Howard PortnoyIranian woman jailed for fiction...  "
      ]
     },
     "execution_count": 8,
     "metadata": {},
     "output_type": "execute_result"
    }
   ],
   "source": [
    "# mergin the author name and title\n",
    "news_df[\"content\"] = news_df[\"author\"]+news_df[\"title\"] + news_df[\"text\"]\n",
    "news_df.head()"
   ]
  },
  {
   "cell_type": "markdown",
   "id": "e9f22890",
   "metadata": {
    "papermill": {
     "duration": 0.006216,
     "end_time": "2023-05-07T02:56:01.488377",
     "exception": false,
     "start_time": "2023-05-07T02:56:01.482161",
     "status": "completed"
    },
    "tags": []
   },
   "source": [
    "### **`Stemming`**"
   ]
  },
  {
   "cell_type": "code",
   "execution_count": 9,
   "id": "05ec9f10",
   "metadata": {
    "execution": {
     "iopub.execute_input": "2023-05-07T02:56:01.502853Z",
     "iopub.status.busy": "2023-05-07T02:56:01.502453Z",
     "iopub.status.idle": "2023-05-07T02:56:01.507542Z",
     "shell.execute_reply": "2023-05-07T02:56:01.506385Z"
    },
    "papermill": {
     "duration": 0.014999,
     "end_time": "2023-05-07T02:56:01.509680",
     "exception": false,
     "start_time": "2023-05-07T02:56:01.494681",
     "status": "completed"
    },
    "tags": []
   },
   "outputs": [],
   "source": [
    "port_stem = PorterStemmer()"
   ]
  },
  {
   "cell_type": "code",
   "execution_count": 10,
   "id": "73959242",
   "metadata": {
    "execution": {
     "iopub.execute_input": "2023-05-07T02:56:01.524290Z",
     "iopub.status.busy": "2023-05-07T02:56:01.523879Z",
     "iopub.status.idle": "2023-05-07T02:56:01.529982Z",
     "shell.execute_reply": "2023-05-07T02:56:01.528975Z"
    },
    "papermill": {
     "duration": 0.015768,
     "end_time": "2023-05-07T02:56:01.532029",
     "exception": false,
     "start_time": "2023-05-07T02:56:01.516261",
     "status": "completed"
    },
    "tags": []
   },
   "outputs": [],
   "source": [
    "def stemming(content):\n",
    "    content = str(content)\n",
    "    stemmed_content = re.sub('[^a-zA-Z]',' ',content)\n",
    "    stemmed_content = stemmed_content.lower()\n",
    "    stemmed_content = stemmed_content.split()  \n",
    "    stemmed_content = [port_stem.stem(word) for word in stemmed_content if not word in  stopwords.words(\"english\")]\n",
    "    stemmed_content = \" \".join(stemmed_content)\n",
    "    return stemmed_content"
   ]
  },
  {
   "cell_type": "code",
   "execution_count": 11,
   "id": "5e599cd8",
   "metadata": {
    "execution": {
     "iopub.execute_input": "2023-05-07T02:56:01.546611Z",
     "iopub.status.busy": "2023-05-07T02:56:01.546229Z",
     "iopub.status.idle": "2023-05-07T03:32:46.507156Z",
     "shell.execute_reply": "2023-05-07T03:32:46.505908Z"
    },
    "papermill": {
     "duration": 2204.976747,
     "end_time": "2023-05-07T03:32:46.515249",
     "exception": false,
     "start_time": "2023-05-07T02:56:01.538502",
     "status": "completed"
    },
    "tags": []
   },
   "outputs": [
    {
     "data": {
      "text/html": [
       "<div>\n",
       "<style scoped>\n",
       "    .dataframe tbody tr th:only-of-type {\n",
       "        vertical-align: middle;\n",
       "    }\n",
       "\n",
       "    .dataframe tbody tr th {\n",
       "        vertical-align: top;\n",
       "    }\n",
       "\n",
       "    .dataframe thead th {\n",
       "        text-align: right;\n",
       "    }\n",
       "</style>\n",
       "<table border=\"1\" class=\"dataframe\">\n",
       "  <thead>\n",
       "    <tr style=\"text-align: right;\">\n",
       "      <th></th>\n",
       "      <th>id</th>\n",
       "      <th>title</th>\n",
       "      <th>author</th>\n",
       "      <th>text</th>\n",
       "      <th>label</th>\n",
       "      <th>content</th>\n",
       "    </tr>\n",
       "  </thead>\n",
       "  <tbody>\n",
       "    <tr>\n",
       "      <th>0</th>\n",
       "      <td>0</td>\n",
       "      <td>House Dem Aide: We Didn’t Even See Comey’s Let...</td>\n",
       "      <td>Darrell Lucus</td>\n",
       "      <td>House Dem Aide: We Didn’t Even See Comey’s Let...</td>\n",
       "      <td>1</td>\n",
       "      <td>darrel lucushous dem aid even see comey letter...</td>\n",
       "    </tr>\n",
       "    <tr>\n",
       "      <th>1</th>\n",
       "      <td>1</td>\n",
       "      <td>FLYNN: Hillary Clinton, Big Woman on Campus - ...</td>\n",
       "      <td>Daniel J. Flynn</td>\n",
       "      <td>Ever get the feeling your life circles the rou...</td>\n",
       "      <td>0</td>\n",
       "      <td>daniel j flynnflynn hillari clinton big woman ...</td>\n",
       "    </tr>\n",
       "    <tr>\n",
       "      <th>2</th>\n",
       "      <td>2</td>\n",
       "      <td>Why the Truth Might Get You Fired</td>\n",
       "      <td>Consortiumnews.com</td>\n",
       "      <td>Why the Truth Might Get You Fired October 29, ...</td>\n",
       "      <td>1</td>\n",
       "      <td>consortiumnew comwhi truth might get firedwhi ...</td>\n",
       "    </tr>\n",
       "    <tr>\n",
       "      <th>3</th>\n",
       "      <td>3</td>\n",
       "      <td>15 Civilians Killed In Single US Airstrike Hav...</td>\n",
       "      <td>Jessica Purkiss</td>\n",
       "      <td>Videos 15 Civilians Killed In Single US Airstr...</td>\n",
       "      <td>1</td>\n",
       "      <td>jessica purkiss civilian kill singl us airstri...</td>\n",
       "    </tr>\n",
       "    <tr>\n",
       "      <th>4</th>\n",
       "      <td>4</td>\n",
       "      <td>Iranian woman jailed for fictional unpublished...</td>\n",
       "      <td>Howard Portnoy</td>\n",
       "      <td>Print \\nAn Iranian woman has been sentenced to...</td>\n",
       "      <td>1</td>\n",
       "      <td>howard portnoyiranian woman jail fiction unpub...</td>\n",
       "    </tr>\n",
       "    <tr>\n",
       "      <th>...</th>\n",
       "      <td>...</td>\n",
       "      <td>...</td>\n",
       "      <td>...</td>\n",
       "      <td>...</td>\n",
       "      <td>...</td>\n",
       "      <td>...</td>\n",
       "    </tr>\n",
       "    <tr>\n",
       "      <th>20795</th>\n",
       "      <td>20795</td>\n",
       "      <td>Rapper T.I.: Trump a ’Poster Child For White S...</td>\n",
       "      <td>Jerome Hudson</td>\n",
       "      <td>Rapper T. I. unloaded on black celebrities who...</td>\n",
       "      <td>0</td>\n",
       "      <td>jerom hudsonrapp trump poster child white supr...</td>\n",
       "    </tr>\n",
       "    <tr>\n",
       "      <th>20796</th>\n",
       "      <td>20796</td>\n",
       "      <td>N.F.L. Playoffs: Schedule, Matchups and Odds -...</td>\n",
       "      <td>Benjamin Hoffman</td>\n",
       "      <td>When the Green Bay Packers lost to the Washing...</td>\n",
       "      <td>0</td>\n",
       "      <td>benjamin hoffmann f l playoff schedul matchup ...</td>\n",
       "    </tr>\n",
       "    <tr>\n",
       "      <th>20797</th>\n",
       "      <td>20797</td>\n",
       "      <td>Macy’s Is Said to Receive Takeover Approach by...</td>\n",
       "      <td>Michael J. de la Merced and Rachel Abrams</td>\n",
       "      <td>The Macy’s of today grew from the union of sev...</td>\n",
       "      <td>0</td>\n",
       "      <td>michael j de la merc rachel abramsmaci said re...</td>\n",
       "    </tr>\n",
       "    <tr>\n",
       "      <th>20798</th>\n",
       "      <td>20798</td>\n",
       "      <td>NATO, Russia To Hold Parallel Exercises In Bal...</td>\n",
       "      <td>Alex Ansary</td>\n",
       "      <td>NATO, Russia To Hold Parallel Exercises In Bal...</td>\n",
       "      <td>1</td>\n",
       "      <td>alex ansarynato russia hold parallel exercis b...</td>\n",
       "    </tr>\n",
       "    <tr>\n",
       "      <th>20799</th>\n",
       "      <td>20799</td>\n",
       "      <td>What Keeps the F-35 Alive</td>\n",
       "      <td>David Swanson</td>\n",
       "      <td>David Swanson is an author, activist, journa...</td>\n",
       "      <td>1</td>\n",
       "      <td>david swansonwhat keep f aliv david swanson au...</td>\n",
       "    </tr>\n",
       "  </tbody>\n",
       "</table>\n",
       "<p>20800 rows × 6 columns</p>\n",
       "</div>"
      ],
      "text/plain": [
       "          id                                              title  \\\n",
       "0          0  House Dem Aide: We Didn’t Even See Comey’s Let...   \n",
       "1          1  FLYNN: Hillary Clinton, Big Woman on Campus - ...   \n",
       "2          2                  Why the Truth Might Get You Fired   \n",
       "3          3  15 Civilians Killed In Single US Airstrike Hav...   \n",
       "4          4  Iranian woman jailed for fictional unpublished...   \n",
       "...      ...                                                ...   \n",
       "20795  20795  Rapper T.I.: Trump a ’Poster Child For White S...   \n",
       "20796  20796  N.F.L. Playoffs: Schedule, Matchups and Odds -...   \n",
       "20797  20797  Macy’s Is Said to Receive Takeover Approach by...   \n",
       "20798  20798  NATO, Russia To Hold Parallel Exercises In Bal...   \n",
       "20799  20799                          What Keeps the F-35 Alive   \n",
       "\n",
       "                                          author  \\\n",
       "0                                  Darrell Lucus   \n",
       "1                                Daniel J. Flynn   \n",
       "2                             Consortiumnews.com   \n",
       "3                                Jessica Purkiss   \n",
       "4                                 Howard Portnoy   \n",
       "...                                          ...   \n",
       "20795                              Jerome Hudson   \n",
       "20796                           Benjamin Hoffman   \n",
       "20797  Michael J. de la Merced and Rachel Abrams   \n",
       "20798                                Alex Ansary   \n",
       "20799                              David Swanson   \n",
       "\n",
       "                                                    text  label  \\\n",
       "0      House Dem Aide: We Didn’t Even See Comey’s Let...      1   \n",
       "1      Ever get the feeling your life circles the rou...      0   \n",
       "2      Why the Truth Might Get You Fired October 29, ...      1   \n",
       "3      Videos 15 Civilians Killed In Single US Airstr...      1   \n",
       "4      Print \\nAn Iranian woman has been sentenced to...      1   \n",
       "...                                                  ...    ...   \n",
       "20795  Rapper T. I. unloaded on black celebrities who...      0   \n",
       "20796  When the Green Bay Packers lost to the Washing...      0   \n",
       "20797  The Macy’s of today grew from the union of sev...      0   \n",
       "20798  NATO, Russia To Hold Parallel Exercises In Bal...      1   \n",
       "20799    David Swanson is an author, activist, journa...      1   \n",
       "\n",
       "                                                 content  \n",
       "0      darrel lucushous dem aid even see comey letter...  \n",
       "1      daniel j flynnflynn hillari clinton big woman ...  \n",
       "2      consortiumnew comwhi truth might get firedwhi ...  \n",
       "3      jessica purkiss civilian kill singl us airstri...  \n",
       "4      howard portnoyiranian woman jail fiction unpub...  \n",
       "...                                                  ...  \n",
       "20795  jerom hudsonrapp trump poster child white supr...  \n",
       "20796  benjamin hoffmann f l playoff schedul matchup ...  \n",
       "20797  michael j de la merc rachel abramsmaci said re...  \n",
       "20798  alex ansarynato russia hold parallel exercis b...  \n",
       "20799  david swansonwhat keep f aliv david swanson au...  \n",
       "\n",
       "[20800 rows x 6 columns]"
      ]
     },
     "execution_count": 11,
     "metadata": {},
     "output_type": "execute_result"
    }
   ],
   "source": [
    "news_df[\"content\"] = news_df[\"content\"].apply(stemming)\n",
    "news_df"
   ]
  },
  {
   "cell_type": "code",
   "execution_count": 12,
   "id": "09a39232",
   "metadata": {
    "execution": {
     "iopub.execute_input": "2023-05-07T03:32:46.531031Z",
     "iopub.status.busy": "2023-05-07T03:32:46.530344Z",
     "iopub.status.idle": "2023-05-07T03:32:46.535704Z",
     "shell.execute_reply": "2023-05-07T03:32:46.534613Z"
    },
    "papermill": {
     "duration": 0.01581,
     "end_time": "2023-05-07T03:32:46.537987",
     "exception": false,
     "start_time": "2023-05-07T03:32:46.522177",
     "status": "completed"
    },
    "tags": []
   },
   "outputs": [],
   "source": [
    "# separating the content and label\n",
    "x = news_df[\"content\"].values\n",
    "y = news_df[\"label\"].values"
   ]
  },
  {
   "cell_type": "code",
   "execution_count": 13,
   "id": "795f5a65",
   "metadata": {
    "execution": {
     "iopub.execute_input": "2023-05-07T03:32:46.553551Z",
     "iopub.status.busy": "2023-05-07T03:32:46.553148Z",
     "iopub.status.idle": "2023-05-07T03:32:46.560188Z",
     "shell.execute_reply": "2023-05-07T03:32:46.559135Z"
    },
    "papermill": {
     "duration": 0.017338,
     "end_time": "2023-05-07T03:32:46.562437",
     "exception": false,
     "start_time": "2023-05-07T03:32:46.545099",
     "status": "completed"
    },
    "tags": []
   },
   "outputs": [
    {
     "data": {
      "text/plain": [
       "array([1, 0, 1, ..., 0, 1, 1])"
      ]
     },
     "execution_count": 13,
     "metadata": {},
     "output_type": "execute_result"
    }
   ],
   "source": [
    "y"
   ]
  },
  {
   "cell_type": "code",
   "execution_count": 14,
   "id": "8f3dac88",
   "metadata": {
    "execution": {
     "iopub.execute_input": "2023-05-07T03:32:46.577923Z",
     "iopub.status.busy": "2023-05-07T03:32:46.577529Z",
     "iopub.status.idle": "2023-05-07T03:33:01.211845Z",
     "shell.execute_reply": "2023-05-07T03:33:01.210678Z"
    },
    "papermill": {
     "duration": 14.644907,
     "end_time": "2023-05-07T03:33:01.214275",
     "exception": false,
     "start_time": "2023-05-07T03:32:46.569368",
     "status": "completed"
    },
    "tags": []
   },
   "outputs": [
    {
     "data": {
      "text/plain": [
       "<20800x132672 sparse matrix of type '<class 'numpy.float64'>'\n",
       "\twith 5154143 stored elements in Compressed Sparse Row format>"
      ]
     },
     "execution_count": 14,
     "metadata": {},
     "output_type": "execute_result"
    }
   ],
   "source": [
    "# convert the textual data to numerical data\n",
    "vectorizer = TfidfVectorizer(lowercase=False)\n",
    "vectorizer.fit(x)\n",
    "\n",
    "x = vectorizer.transform(x)\n",
    "x"
   ]
  },
  {
   "cell_type": "code",
   "execution_count": 15,
   "id": "22b3a7ad",
   "metadata": {
    "execution": {
     "iopub.execute_input": "2023-05-07T03:33:01.230608Z",
     "iopub.status.busy": "2023-05-07T03:33:01.230167Z",
     "iopub.status.idle": "2023-05-07T03:33:01.285789Z",
     "shell.execute_reply": "2023-05-07T03:33:01.283906Z"
    },
    "papermill": {
     "duration": 0.067112,
     "end_time": "2023-05-07T03:33:01.288617",
     "exception": false,
     "start_time": "2023-05-07T03:33:01.221505",
     "status": "completed"
    },
    "tags": []
   },
   "outputs": [
    {
     "name": "stdout",
     "output_type": "stream",
     "text": [
      "  (0, 130818)\t0.049359010688221086\n",
      "  (0, 130705)\t0.019146738456392892\n",
      "  (0, 129642)\t0.04436373112268564\n",
      "  (0, 129638)\t0.09516187734727095\n",
      "  (0, 129565)\t0.03780720563980452\n",
      "  (0, 129512)\t0.011352307262910219\n",
      "  (0, 128633)\t0.017183471408895062\n",
      "  (0, 127702)\t0.017175774949849457\n",
      "  (0, 127588)\t0.012608598480300359\n",
      "  (0, 127480)\t0.029275238162380146\n",
      "  (0, 127380)\t0.012917703166562322\n",
      "  (0, 127118)\t0.011821326245393624\n",
      "  (0, 126057)\t0.025832234161699497\n",
      "  (0, 125986)\t0.03143047733935193\n",
      "  (0, 124793)\t0.021653132173375375\n",
      "  (0, 123316)\t0.06571274804115725\n",
      "  (0, 122566)\t0.03331420726922118\n",
      "  (0, 122294)\t0.016468182057170776\n",
      "  (0, 121494)\t0.03822736093390058\n",
      "  (0, 120823)\t0.011140061644005245\n",
      "  (0, 120810)\t0.04338449629308867\n",
      "  (0, 120748)\t0.1380668518658258\n",
      "  (0, 120573)\t0.07160628920486202\n",
      "  (0, 119082)\t0.03961095092447339\n",
      "  (0, 118451)\t0.02723108300999399\n",
      "  :\t:\n",
      "  (20799, 8705)\t0.01066336086981326\n",
      "  (20799, 8362)\t0.02822956507059327\n",
      "  (20799, 7973)\t0.03993393761230873\n",
      "  (20799, 7932)\t0.02543448910703056\n",
      "  (20799, 7632)\t0.04249214720425476\n",
      "  (20799, 7137)\t0.031615748616506935\n",
      "  (20799, 6898)\t0.04642488830391961\n",
      "  (20799, 6519)\t0.024152534623582335\n",
      "  (20799, 6210)\t0.04552366337447317\n",
      "  (20799, 3894)\t0.03454325184304498\n",
      "  (20799, 3641)\t0.050189072573862584\n",
      "  (20799, 3547)\t0.015364584096774615\n",
      "  (20799, 3278)\t0.04796330076445394\n",
      "  (20799, 2782)\t0.0894452199802996\n",
      "  (20799, 2458)\t0.023205289250374198\n",
      "  (20799, 2456)\t0.029445319169571126\n",
      "  (20799, 2411)\t0.03338855526519356\n",
      "  (20799, 2342)\t0.03384372540405116\n",
      "  (20799, 1147)\t0.018979090024329355\n",
      "  (20799, 978)\t0.03837826997765854\n",
      "  (20799, 940)\t0.01383815857611829\n",
      "  (20799, 881)\t0.041846289221674736\n",
      "  (20799, 612)\t0.024565679448442308\n",
      "  (20799, 351)\t0.0154005558642742\n",
      "  (20799, 333)\t0.019073840820600936\n"
     ]
    }
   ],
   "source": [
    "print(x)"
   ]
  },
  {
   "cell_type": "code",
   "execution_count": 16,
   "id": "ffe1cb04",
   "metadata": {
    "execution": {
     "iopub.execute_input": "2023-05-07T03:33:01.305012Z",
     "iopub.status.busy": "2023-05-07T03:33:01.304634Z",
     "iopub.status.idle": "2023-05-07T03:33:01.338514Z",
     "shell.execute_reply": "2023-05-07T03:33:01.337354Z"
    },
    "papermill": {
     "duration": 0.045245,
     "end_time": "2023-05-07T03:33:01.341172",
     "exception": false,
     "start_time": "2023-05-07T03:33:01.295927",
     "status": "completed"
    },
    "tags": []
   },
   "outputs": [],
   "source": [
    "# train test split\n",
    "x_train,x_test,y_train,y_test = train_test_split(x,y,stratify=y,test_size = .2,random_state = 2)"
   ]
  },
  {
   "cell_type": "code",
   "execution_count": 17,
   "id": "110e9b44",
   "metadata": {
    "execution": {
     "iopub.execute_input": "2023-05-07T03:33:01.357616Z",
     "iopub.status.busy": "2023-05-07T03:33:01.357033Z",
     "iopub.status.idle": "2023-05-07T03:33:01.363062Z",
     "shell.execute_reply": "2023-05-07T03:33:01.361547Z"
    },
    "papermill": {
     "duration": 0.016967,
     "end_time": "2023-05-07T03:33:01.365573",
     "exception": false,
     "start_time": "2023-05-07T03:33:01.348606",
     "status": "completed"
    },
    "tags": []
   },
   "outputs": [],
   "source": [
    "# Create model\n",
    "model = LogisticRegression()"
   ]
  },
  {
   "cell_type": "code",
   "execution_count": 18,
   "id": "627c7139",
   "metadata": {
    "execution": {
     "iopub.execute_input": "2023-05-07T03:33:01.383109Z",
     "iopub.status.busy": "2023-05-07T03:33:01.381902Z",
     "iopub.status.idle": "2023-05-07T03:33:06.312420Z",
     "shell.execute_reply": "2023-05-07T03:33:06.310959Z"
    },
    "papermill": {
     "duration": 4.944013,
     "end_time": "2023-05-07T03:33:06.317046",
     "exception": false,
     "start_time": "2023-05-07T03:33:01.373033",
     "status": "completed"
    },
    "tags": []
   },
   "outputs": [
    {
     "data": {
      "text/html": [
       "<style>#sk-container-id-1 {color: black;background-color: white;}#sk-container-id-1 pre{padding: 0;}#sk-container-id-1 div.sk-toggleable {background-color: white;}#sk-container-id-1 label.sk-toggleable__label {cursor: pointer;display: block;width: 100%;margin-bottom: 0;padding: 0.3em;box-sizing: border-box;text-align: center;}#sk-container-id-1 label.sk-toggleable__label-arrow:before {content: \"▸\";float: left;margin-right: 0.25em;color: #696969;}#sk-container-id-1 label.sk-toggleable__label-arrow:hover:before {color: black;}#sk-container-id-1 div.sk-estimator:hover label.sk-toggleable__label-arrow:before {color: black;}#sk-container-id-1 div.sk-toggleable__content {max-height: 0;max-width: 0;overflow: hidden;text-align: left;background-color: #f0f8ff;}#sk-container-id-1 div.sk-toggleable__content pre {margin: 0.2em;color: black;border-radius: 0.25em;background-color: #f0f8ff;}#sk-container-id-1 input.sk-toggleable__control:checked~div.sk-toggleable__content {max-height: 200px;max-width: 100%;overflow: auto;}#sk-container-id-1 input.sk-toggleable__control:checked~label.sk-toggleable__label-arrow:before {content: \"▾\";}#sk-container-id-1 div.sk-estimator input.sk-toggleable__control:checked~label.sk-toggleable__label {background-color: #d4ebff;}#sk-container-id-1 div.sk-label input.sk-toggleable__control:checked~label.sk-toggleable__label {background-color: #d4ebff;}#sk-container-id-1 input.sk-hidden--visually {border: 0;clip: rect(1px 1px 1px 1px);clip: rect(1px, 1px, 1px, 1px);height: 1px;margin: -1px;overflow: hidden;padding: 0;position: absolute;width: 1px;}#sk-container-id-1 div.sk-estimator {font-family: monospace;background-color: #f0f8ff;border: 1px dotted black;border-radius: 0.25em;box-sizing: border-box;margin-bottom: 0.5em;}#sk-container-id-1 div.sk-estimator:hover {background-color: #d4ebff;}#sk-container-id-1 div.sk-parallel-item::after {content: \"\";width: 100%;border-bottom: 1px solid gray;flex-grow: 1;}#sk-container-id-1 div.sk-label:hover label.sk-toggleable__label {background-color: #d4ebff;}#sk-container-id-1 div.sk-serial::before {content: \"\";position: absolute;border-left: 1px solid gray;box-sizing: border-box;top: 0;bottom: 0;left: 50%;z-index: 0;}#sk-container-id-1 div.sk-serial {display: flex;flex-direction: column;align-items: center;background-color: white;padding-right: 0.2em;padding-left: 0.2em;position: relative;}#sk-container-id-1 div.sk-item {position: relative;z-index: 1;}#sk-container-id-1 div.sk-parallel {display: flex;align-items: stretch;justify-content: center;background-color: white;position: relative;}#sk-container-id-1 div.sk-item::before, #sk-container-id-1 div.sk-parallel-item::before {content: \"\";position: absolute;border-left: 1px solid gray;box-sizing: border-box;top: 0;bottom: 0;left: 50%;z-index: -1;}#sk-container-id-1 div.sk-parallel-item {display: flex;flex-direction: column;z-index: 1;position: relative;background-color: white;}#sk-container-id-1 div.sk-parallel-item:first-child::after {align-self: flex-end;width: 50%;}#sk-container-id-1 div.sk-parallel-item:last-child::after {align-self: flex-start;width: 50%;}#sk-container-id-1 div.sk-parallel-item:only-child::after {width: 0;}#sk-container-id-1 div.sk-dashed-wrapped {border: 1px dashed gray;margin: 0 0.4em 0.5em 0.4em;box-sizing: border-box;padding-bottom: 0.4em;background-color: white;}#sk-container-id-1 div.sk-label label {font-family: monospace;font-weight: bold;display: inline-block;line-height: 1.2em;}#sk-container-id-1 div.sk-label-container {text-align: center;}#sk-container-id-1 div.sk-container {/* jupyter's `normalize.less` sets `[hidden] { display: none; }` but bootstrap.min.css set `[hidden] { display: none !important; }` so we also need the `!important` here to be able to override the default hidden behavior on the sphinx rendered scikit-learn.org. See: https://github.com/scikit-learn/scikit-learn/issues/21755 */display: inline-block !important;position: relative;}#sk-container-id-1 div.sk-text-repr-fallback {display: none;}</style><div id=\"sk-container-id-1\" class=\"sk-top-container\"><div class=\"sk-text-repr-fallback\"><pre>LogisticRegression()</pre><b>In a Jupyter environment, please rerun this cell to show the HTML representation or trust the notebook. <br />On GitHub, the HTML representation is unable to render, please try loading this page with nbviewer.org.</b></div><div class=\"sk-container\" hidden><div class=\"sk-item\"><div class=\"sk-estimator sk-toggleable\"><input class=\"sk-toggleable__control sk-hidden--visually\" id=\"sk-estimator-id-1\" type=\"checkbox\" checked><label for=\"sk-estimator-id-1\" class=\"sk-toggleable__label sk-toggleable__label-arrow\">LogisticRegression</label><div class=\"sk-toggleable__content\"><pre>LogisticRegression()</pre></div></div></div></div></div>"
      ],
      "text/plain": [
       "LogisticRegression()"
      ]
     },
     "execution_count": 18,
     "metadata": {},
     "output_type": "execute_result"
    }
   ],
   "source": [
    "model.fit(x_train,y_train)"
   ]
  },
  {
   "cell_type": "code",
   "execution_count": 19,
   "id": "db0f6d5b",
   "metadata": {
    "execution": {
     "iopub.execute_input": "2023-05-07T03:33:06.359266Z",
     "iopub.status.busy": "2023-05-07T03:33:06.358554Z",
     "iopub.status.idle": "2023-05-07T03:33:06.374761Z",
     "shell.execute_reply": "2023-05-07T03:33:06.373960Z"
    },
    "papermill": {
     "duration": 0.039722,
     "end_time": "2023-05-07T03:33:06.377037",
     "exception": false,
     "start_time": "2023-05-07T03:33:06.337315",
     "status": "completed"
    },
    "tags": []
   },
   "outputs": [],
   "source": [
    "accuracy =round( model.score(x_test,y_test),2)"
   ]
  },
  {
   "cell_type": "code",
   "execution_count": 20,
   "id": "f51851c4",
   "metadata": {
    "execution": {
     "iopub.execute_input": "2023-05-07T03:33:06.393930Z",
     "iopub.status.busy": "2023-05-07T03:33:06.393152Z",
     "iopub.status.idle": "2023-05-07T03:33:06.399248Z",
     "shell.execute_reply": "2023-05-07T03:33:06.398137Z"
    },
    "papermill": {
     "duration": 0.017014,
     "end_time": "2023-05-07T03:33:06.401326",
     "exception": false,
     "start_time": "2023-05-07T03:33:06.384312",
     "status": "completed"
    },
    "tags": []
   },
   "outputs": [
    {
     "name": "stdout",
     "output_type": "stream",
     "text": [
      "accuracy : 94.0%\n"
     ]
    }
   ],
   "source": [
    "print(\"accuracy : {}%\".format(accuracy *100) )"
   ]
  }
 ],
 "metadata": {
  "kernelspec": {
   "display_name": "Python 3",
   "language": "python",
   "name": "python3"
  },
  "language_info": {
   "codemirror_mode": {
    "name": "ipython",
    "version": 3
   },
   "file_extension": ".py",
   "mimetype": "text/x-python",
   "name": "python",
   "nbconvert_exporter": "python",
   "pygments_lexer": "ipython3",
   "version": "3.10.10"
  },
  "papermill": {
   "default_parameters": {},
   "duration": 2241.54636,
   "end_time": "2023-05-07T03:33:07.534703",
   "environment_variables": {},
   "exception": null,
   "input_path": "__notebook__.ipynb",
   "output_path": "__notebook__.ipynb",
   "parameters": {},
   "start_time": "2023-05-07T02:55:45.988343",
   "version": "2.4.0"
  }
 },
 "nbformat": 4,
 "nbformat_minor": 5
}
