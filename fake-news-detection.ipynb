{
 "cells": [
  {
   "cell_type": "code",
   "execution_count": 1,
   "id": "90755bdb",
   "metadata": {
    "_cell_guid": "b1076dfc-b9ad-4769-8c92-a6c4dae69d19",
    "_uuid": "8f2839f25d086af736a60e9eeb907d3b93b6e0e5",
    "execution": {
     "iopub.execute_input": "2023-05-07T02:38:31.917719Z",
     "iopub.status.busy": "2023-05-07T02:38:31.916960Z",
     "iopub.status.idle": "2023-05-07T02:38:33.667880Z",
     "shell.execute_reply": "2023-05-07T02:38:33.666942Z"
    },
    "papermill": {
     "duration": 1.759702,
     "end_time": "2023-05-07T02:38:33.670572",
     "exception": false,
     "start_time": "2023-05-07T02:38:31.910870",
     "status": "completed"
    },
    "tags": []
   },
   "outputs": [
    {
     "name": "stderr",
     "output_type": "stream",
     "text": [
      "/opt/conda/lib/python3.10/site-packages/scipy/__init__.py:146: UserWarning: A NumPy version >=1.16.5 and <1.23.0 is required for this version of SciPy (detected version 1.23.5\n",
      "  warnings.warn(f\"A NumPy version >={np_minversion} and <{np_maxversion}\"\n"
     ]
    }
   ],
   "source": [
    "# Essential Packages\n",
    "import pandas as pd\n",
    "import numpy as np\n",
    "from nltk.corpus import stopwords\n",
    "from nltk.stem.porter import PorterStemmer\n",
    "from sklearn.feature_extraction.text import TfidfVectorizer\n",
    "from sklearn.model_selection import train_test_split\n",
    "from sklearn.linear_model import LogisticRegression\n",
    "from sklearn.metrics import accuracy_score\n",
    "import re\n",
    "\n"
   ]
  },
  {
   "cell_type": "markdown",
   "id": "e79652b8",
   "metadata": {
    "papermill": {
     "duration": 0.003321,
     "end_time": "2023-05-07T02:38:33.677925",
     "exception": false,
     "start_time": "2023-05-07T02:38:33.674604",
     "status": "completed"
    },
    "tags": []
   },
   "source": [
    "## **`Data Collection and Preproccessing`**"
   ]
  },
  {
   "cell_type": "code",
   "execution_count": 2,
   "id": "cb9d31aa",
   "metadata": {
    "execution": {
     "iopub.execute_input": "2023-05-07T02:38:33.687265Z",
     "iopub.status.busy": "2023-05-07T02:38:33.686644Z",
     "iopub.status.idle": "2023-05-07T02:38:33.787897Z",
     "shell.execute_reply": "2023-05-07T02:38:33.786567Z"
    },
    "papermill": {
     "duration": 0.108732,
     "end_time": "2023-05-07T02:38:33.790260",
     "exception": false,
     "start_time": "2023-05-07T02:38:33.681528",
     "status": "completed"
    },
    "tags": []
   },
   "outputs": [
    {
     "name": "stdout",
     "output_type": "stream",
     "text": [
      "[nltk_data] Downloading package stopwords to /usr/share/nltk_data...\n",
      "[nltk_data]   Package stopwords is already up-to-date!\n"
     ]
    },
    {
     "data": {
      "text/plain": [
       "True"
      ]
     },
     "execution_count": 2,
     "metadata": {},
     "output_type": "execute_result"
    }
   ],
   "source": [
    "import nltk\n",
    "nltk.download(\"stopwords\")"
   ]
  },
  {
   "cell_type": "code",
   "execution_count": 3,
   "id": "e9744361",
   "metadata": {
    "execution": {
     "iopub.execute_input": "2023-05-07T02:38:33.800369Z",
     "iopub.status.busy": "2023-05-07T02:38:33.799883Z",
     "iopub.status.idle": "2023-05-07T02:38:33.809359Z",
     "shell.execute_reply": "2023-05-07T02:38:33.808196Z"
    },
    "papermill": {
     "duration": 0.017129,
     "end_time": "2023-05-07T02:38:33.811698",
     "exception": false,
     "start_time": "2023-05-07T02:38:33.794569",
     "status": "completed"
    },
    "tags": []
   },
   "outputs": [
    {
     "name": "stdout",
     "output_type": "stream",
     "text": [
      "['i', 'me', 'my', 'myself', 'we', 'our', 'ours', 'ourselves', 'you', \"you're\", \"you've\", \"you'll\", \"you'd\", 'your', 'yours', 'yourself', 'yourselves', 'he', 'him', 'his', 'himself', 'she', \"she's\", 'her', 'hers', 'herself', 'it', \"it's\", 'its', 'itself', 'they', 'them', 'their', 'theirs', 'themselves', 'what', 'which', 'who', 'whom', 'this', 'that', \"that'll\", 'these', 'those', 'am', 'is', 'are', 'was', 'were', 'be', 'been', 'being', 'have', 'has', 'had', 'having', 'do', 'does', 'did', 'doing', 'a', 'an', 'the', 'and', 'but', 'if', 'or', 'because', 'as', 'until', 'while', 'of', 'at', 'by', 'for', 'with', 'about', 'against', 'between', 'into', 'through', 'during', 'before', 'after', 'above', 'below', 'to', 'from', 'up', 'down', 'in', 'out', 'on', 'off', 'over', 'under', 'again', 'further', 'then', 'once', 'here', 'there', 'when', 'where', 'why', 'how', 'all', 'any', 'both', 'each', 'few', 'more', 'most', 'other', 'some', 'such', 'no', 'nor', 'not', 'only', 'own', 'same', 'so', 'than', 'too', 'very', 's', 't', 'can', 'will', 'just', 'don', \"don't\", 'should', \"should've\", 'now', 'd', 'll', 'm', 'o', 're', 've', 'y', 'ain', 'aren', \"aren't\", 'couldn', \"couldn't\", 'didn', \"didn't\", 'doesn', \"doesn't\", 'hadn', \"hadn't\", 'hasn', \"hasn't\", 'haven', \"haven't\", 'isn', \"isn't\", 'ma', 'mightn', \"mightn't\", 'mustn', \"mustn't\", 'needn', \"needn't\", 'shan', \"shan't\", 'shouldn', \"shouldn't\", 'wasn', \"wasn't\", 'weren', \"weren't\", 'won', \"won't\", 'wouldn', \"wouldn't\"]\n",
      "179\n"
     ]
    }
   ],
   "source": [
    "# Print all the stopwords\n",
    "print(stopwords.words(\"english\"))\n",
    "print(len(stopwords.words(\"english\")))"
   ]
  },
  {
   "cell_type": "code",
   "execution_count": 4,
   "id": "482cce4e",
   "metadata": {
    "execution": {
     "iopub.execute_input": "2023-05-07T02:38:33.821623Z",
     "iopub.status.busy": "2023-05-07T02:38:33.821203Z",
     "iopub.status.idle": "2023-05-07T02:38:36.481268Z",
     "shell.execute_reply": "2023-05-07T02:38:36.480219Z"
    },
    "papermill": {
     "duration": 2.668068,
     "end_time": "2023-05-07T02:38:36.483985",
     "exception": false,
     "start_time": "2023-05-07T02:38:33.815917",
     "status": "completed"
    },
    "tags": []
   },
   "outputs": [
    {
     "data": {
      "text/html": [
       "<div>\n",
       "<style scoped>\n",
       "    .dataframe tbody tr th:only-of-type {\n",
       "        vertical-align: middle;\n",
       "    }\n",
       "\n",
       "    .dataframe tbody tr th {\n",
       "        vertical-align: top;\n",
       "    }\n",
       "\n",
       "    .dataframe thead th {\n",
       "        text-align: right;\n",
       "    }\n",
       "</style>\n",
       "<table border=\"1\" class=\"dataframe\">\n",
       "  <thead>\n",
       "    <tr style=\"text-align: right;\">\n",
       "      <th></th>\n",
       "      <th>id</th>\n",
       "      <th>title</th>\n",
       "      <th>author</th>\n",
       "      <th>text</th>\n",
       "      <th>label</th>\n",
       "    </tr>\n",
       "  </thead>\n",
       "  <tbody>\n",
       "    <tr>\n",
       "      <th>0</th>\n",
       "      <td>0</td>\n",
       "      <td>House Dem Aide: We Didn’t Even See Comey’s Let...</td>\n",
       "      <td>Darrell Lucus</td>\n",
       "      <td>House Dem Aide: We Didn’t Even See Comey’s Let...</td>\n",
       "      <td>1</td>\n",
       "    </tr>\n",
       "    <tr>\n",
       "      <th>1</th>\n",
       "      <td>1</td>\n",
       "      <td>FLYNN: Hillary Clinton, Big Woman on Campus - ...</td>\n",
       "      <td>Daniel J. Flynn</td>\n",
       "      <td>Ever get the feeling your life circles the rou...</td>\n",
       "      <td>0</td>\n",
       "    </tr>\n",
       "    <tr>\n",
       "      <th>2</th>\n",
       "      <td>2</td>\n",
       "      <td>Why the Truth Might Get You Fired</td>\n",
       "      <td>Consortiumnews.com</td>\n",
       "      <td>Why the Truth Might Get You Fired October 29, ...</td>\n",
       "      <td>1</td>\n",
       "    </tr>\n",
       "    <tr>\n",
       "      <th>3</th>\n",
       "      <td>3</td>\n",
       "      <td>15 Civilians Killed In Single US Airstrike Hav...</td>\n",
       "      <td>Jessica Purkiss</td>\n",
       "      <td>Videos 15 Civilians Killed In Single US Airstr...</td>\n",
       "      <td>1</td>\n",
       "    </tr>\n",
       "    <tr>\n",
       "      <th>4</th>\n",
       "      <td>4</td>\n",
       "      <td>Iranian woman jailed for fictional unpublished...</td>\n",
       "      <td>Howard Portnoy</td>\n",
       "      <td>Print \\nAn Iranian woman has been sentenced to...</td>\n",
       "      <td>1</td>\n",
       "    </tr>\n",
       "  </tbody>\n",
       "</table>\n",
       "</div>"
      ],
      "text/plain": [
       "   id                                              title              author  \\\n",
       "0   0  House Dem Aide: We Didn’t Even See Comey’s Let...       Darrell Lucus   \n",
       "1   1  FLYNN: Hillary Clinton, Big Woman on Campus - ...     Daniel J. Flynn   \n",
       "2   2                  Why the Truth Might Get You Fired  Consortiumnews.com   \n",
       "3   3  15 Civilians Killed In Single US Airstrike Hav...     Jessica Purkiss   \n",
       "4   4  Iranian woman jailed for fictional unpublished...      Howard Portnoy   \n",
       "\n",
       "                                                text  label  \n",
       "0  House Dem Aide: We Didn’t Even See Comey’s Let...      1  \n",
       "1  Ever get the feeling your life circles the rou...      0  \n",
       "2  Why the Truth Might Get You Fired October 29, ...      1  \n",
       "3  Videos 15 Civilians Killed In Single US Airstr...      1  \n",
       "4  Print \\nAn Iranian woman has been sentenced to...      1  "
      ]
     },
     "execution_count": 4,
     "metadata": {},
     "output_type": "execute_result"
    }
   ],
   "source": [
    "news_df = pd.read_csv(\"/kaggle/input/news-data-anin/fake_news.csv\")\n",
    "news_df.head()"
   ]
  },
  {
   "cell_type": "code",
   "execution_count": 5,
   "id": "3818327c",
   "metadata": {
    "execution": {
     "iopub.execute_input": "2023-05-07T02:38:36.495255Z",
     "iopub.status.busy": "2023-05-07T02:38:36.494497Z",
     "iopub.status.idle": "2023-05-07T02:38:36.500890Z",
     "shell.execute_reply": "2023-05-07T02:38:36.499449Z"
    },
    "papermill": {
     "duration": 0.01447,
     "end_time": "2023-05-07T02:38:36.503039",
     "exception": false,
     "start_time": "2023-05-07T02:38:36.488569",
     "status": "completed"
    },
    "tags": []
   },
   "outputs": [
    {
     "name": "stdout",
     "output_type": "stream",
     "text": [
      "shape: (20800, 5)\n"
     ]
    }
   ],
   "source": [
    "print(\"shape: {}\".format(news_df.shape))"
   ]
  },
  {
   "cell_type": "code",
   "execution_count": 6,
   "id": "9995c78b",
   "metadata": {
    "execution": {
     "iopub.execute_input": "2023-05-07T02:38:36.513455Z",
     "iopub.status.busy": "2023-05-07T02:38:36.513043Z",
     "iopub.status.idle": "2023-05-07T02:38:36.536641Z",
     "shell.execute_reply": "2023-05-07T02:38:36.535501Z"
    },
    "papermill": {
     "duration": 0.031507,
     "end_time": "2023-05-07T02:38:36.538982",
     "exception": false,
     "start_time": "2023-05-07T02:38:36.507475",
     "status": "completed"
    },
    "tags": []
   },
   "outputs": [
    {
     "data": {
      "text/plain": [
       "id           0\n",
       "title      558\n",
       "author    1957\n",
       "text        39\n",
       "label        0\n",
       "dtype: int64"
      ]
     },
     "execution_count": 6,
     "metadata": {},
     "output_type": "execute_result"
    }
   ],
   "source": [
    "# check number of missing values \n",
    "news_df.isna().sum()"
   ]
  },
  {
   "cell_type": "code",
   "execution_count": 7,
   "id": "f5a74900",
   "metadata": {
    "execution": {
     "iopub.execute_input": "2023-05-07T02:38:36.550032Z",
     "iopub.status.busy": "2023-05-07T02:38:36.549631Z",
     "iopub.status.idle": "2023-05-07T02:38:36.586522Z",
     "shell.execute_reply": "2023-05-07T02:38:36.585362Z"
    },
    "papermill": {
     "duration": 0.044918,
     "end_time": "2023-05-07T02:38:36.588836",
     "exception": false,
     "start_time": "2023-05-07T02:38:36.543918",
     "status": "completed"
    },
    "tags": []
   },
   "outputs": [
    {
     "data": {
      "text/plain": [
       "id        0\n",
       "title     0\n",
       "author    0\n",
       "text      0\n",
       "label     0\n",
       "dtype: int64"
      ]
     },
     "execution_count": 7,
     "metadata": {},
     "output_type": "execute_result"
    }
   ],
   "source": [
    "# replacing null values with empty string\n",
    "news_df =news_df.fillna(\"\")\n",
    "news_df.isna().sum()\n"
   ]
  },
  {
   "cell_type": "code",
   "execution_count": 8,
   "id": "c7af3488",
   "metadata": {
    "execution": {
     "iopub.execute_input": "2023-05-07T02:38:36.599974Z",
     "iopub.status.busy": "2023-05-07T02:38:36.599617Z",
     "iopub.status.idle": "2023-05-07T02:38:36.621125Z",
     "shell.execute_reply": "2023-05-07T02:38:36.620084Z"
    },
    "papermill": {
     "duration": 0.029942,
     "end_time": "2023-05-07T02:38:36.623573",
     "exception": false,
     "start_time": "2023-05-07T02:38:36.593631",
     "status": "completed"
    },
    "tags": []
   },
   "outputs": [
    {
     "data": {
      "text/html": [
       "<div>\n",
       "<style scoped>\n",
       "    .dataframe tbody tr th:only-of-type {\n",
       "        vertical-align: middle;\n",
       "    }\n",
       "\n",
       "    .dataframe tbody tr th {\n",
       "        vertical-align: top;\n",
       "    }\n",
       "\n",
       "    .dataframe thead th {\n",
       "        text-align: right;\n",
       "    }\n",
       "</style>\n",
       "<table border=\"1\" class=\"dataframe\">\n",
       "  <thead>\n",
       "    <tr style=\"text-align: right;\">\n",
       "      <th></th>\n",
       "      <th>id</th>\n",
       "      <th>title</th>\n",
       "      <th>author</th>\n",
       "      <th>text</th>\n",
       "      <th>label</th>\n",
       "      <th>content</th>\n",
       "    </tr>\n",
       "  </thead>\n",
       "  <tbody>\n",
       "    <tr>\n",
       "      <th>0</th>\n",
       "      <td>0</td>\n",
       "      <td>House Dem Aide: We Didn’t Even See Comey’s Let...</td>\n",
       "      <td>Darrell Lucus</td>\n",
       "      <td>House Dem Aide: We Didn’t Even See Comey’s Let...</td>\n",
       "      <td>1</td>\n",
       "      <td>Darrell LucusHouse Dem Aide: We Didn’t Even Se...</td>\n",
       "    </tr>\n",
       "    <tr>\n",
       "      <th>1</th>\n",
       "      <td>1</td>\n",
       "      <td>FLYNN: Hillary Clinton, Big Woman on Campus - ...</td>\n",
       "      <td>Daniel J. Flynn</td>\n",
       "      <td>Ever get the feeling your life circles the rou...</td>\n",
       "      <td>0</td>\n",
       "      <td>Daniel J. FlynnFLYNN: Hillary Clinton, Big Wom...</td>\n",
       "    </tr>\n",
       "    <tr>\n",
       "      <th>2</th>\n",
       "      <td>2</td>\n",
       "      <td>Why the Truth Might Get You Fired</td>\n",
       "      <td>Consortiumnews.com</td>\n",
       "      <td>Why the Truth Might Get You Fired October 29, ...</td>\n",
       "      <td>1</td>\n",
       "      <td>Consortiumnews.comWhy the Truth Might Get You ...</td>\n",
       "    </tr>\n",
       "    <tr>\n",
       "      <th>3</th>\n",
       "      <td>3</td>\n",
       "      <td>15 Civilians Killed In Single US Airstrike Hav...</td>\n",
       "      <td>Jessica Purkiss</td>\n",
       "      <td>Videos 15 Civilians Killed In Single US Airstr...</td>\n",
       "      <td>1</td>\n",
       "      <td>Jessica Purkiss15 Civilians Killed In Single U...</td>\n",
       "    </tr>\n",
       "    <tr>\n",
       "      <th>4</th>\n",
       "      <td>4</td>\n",
       "      <td>Iranian woman jailed for fictional unpublished...</td>\n",
       "      <td>Howard Portnoy</td>\n",
       "      <td>Print \\nAn Iranian woman has been sentenced to...</td>\n",
       "      <td>1</td>\n",
       "      <td>Howard PortnoyIranian woman jailed for fiction...</td>\n",
       "    </tr>\n",
       "  </tbody>\n",
       "</table>\n",
       "</div>"
      ],
      "text/plain": [
       "   id                                              title              author  \\\n",
       "0   0  House Dem Aide: We Didn’t Even See Comey’s Let...       Darrell Lucus   \n",
       "1   1  FLYNN: Hillary Clinton, Big Woman on Campus - ...     Daniel J. Flynn   \n",
       "2   2                  Why the Truth Might Get You Fired  Consortiumnews.com   \n",
       "3   3  15 Civilians Killed In Single US Airstrike Hav...     Jessica Purkiss   \n",
       "4   4  Iranian woman jailed for fictional unpublished...      Howard Portnoy   \n",
       "\n",
       "                                                text  label  \\\n",
       "0  House Dem Aide: We Didn’t Even See Comey’s Let...      1   \n",
       "1  Ever get the feeling your life circles the rou...      0   \n",
       "2  Why the Truth Might Get You Fired October 29, ...      1   \n",
       "3  Videos 15 Civilians Killed In Single US Airstr...      1   \n",
       "4  Print \\nAn Iranian woman has been sentenced to...      1   \n",
       "\n",
       "                                             content  \n",
       "0  Darrell LucusHouse Dem Aide: We Didn’t Even Se...  \n",
       "1  Daniel J. FlynnFLYNN: Hillary Clinton, Big Wom...  \n",
       "2  Consortiumnews.comWhy the Truth Might Get You ...  \n",
       "3  Jessica Purkiss15 Civilians Killed In Single U...  \n",
       "4  Howard PortnoyIranian woman jailed for fiction...  "
      ]
     },
     "execution_count": 8,
     "metadata": {},
     "output_type": "execute_result"
    }
   ],
   "source": [
    "# mergin the author name and title\n",
    "news_df[\"content\"] = news_df[\"author\"]+news_df[\"title\"]\n",
    "news_df.head()"
   ]
  },
  {
   "cell_type": "markdown",
   "id": "83460081",
   "metadata": {
    "papermill": {
     "duration": 0.004764,
     "end_time": "2023-05-07T02:38:36.633558",
     "exception": false,
     "start_time": "2023-05-07T02:38:36.628794",
     "status": "completed"
    },
    "tags": []
   },
   "source": [
    "### **`Stemming`**"
   ]
  },
  {
   "cell_type": "code",
   "execution_count": 9,
   "id": "1b10bac8",
   "metadata": {
    "execution": {
     "iopub.execute_input": "2023-05-07T02:38:36.645825Z",
     "iopub.status.busy": "2023-05-07T02:38:36.645415Z",
     "iopub.status.idle": "2023-05-07T02:38:36.650179Z",
     "shell.execute_reply": "2023-05-07T02:38:36.649145Z"
    },
    "papermill": {
     "duration": 0.013795,
     "end_time": "2023-05-07T02:38:36.652355",
     "exception": false,
     "start_time": "2023-05-07T02:38:36.638560",
     "status": "completed"
    },
    "tags": []
   },
   "outputs": [],
   "source": [
    "port_stem = PorterStemmer()"
   ]
  },
  {
   "cell_type": "code",
   "execution_count": 10,
   "id": "acf5033e",
   "metadata": {
    "execution": {
     "iopub.execute_input": "2023-05-07T02:38:36.664248Z",
     "iopub.status.busy": "2023-05-07T02:38:36.663846Z",
     "iopub.status.idle": "2023-05-07T02:38:36.670010Z",
     "shell.execute_reply": "2023-05-07T02:38:36.669055Z"
    },
    "papermill": {
     "duration": 0.014476,
     "end_time": "2023-05-07T02:38:36.672005",
     "exception": false,
     "start_time": "2023-05-07T02:38:36.657529",
     "status": "completed"
    },
    "tags": []
   },
   "outputs": [],
   "source": [
    "def stemming(content):\n",
    "    content = str(content)\n",
    "    stemmed_content = re.sub('[^a-zA-Z]',' ',content)\n",
    "    stemmed_content = stemmed_content.lower()\n",
    "    stemmed_content = stemmed_content.split()  \n",
    "    stemmed_content = [port_stem.stem(word) for word in stemmed_content if not word in  stopwords.words(\"english\")]\n",
    "    stemmed_content = \" \".join(stemmed_content)\n",
    "    return stemmed_content"
   ]
  },
  {
   "cell_type": "code",
   "execution_count": 11,
   "id": "a5d02538",
   "metadata": {
    "execution": {
     "iopub.execute_input": "2023-05-07T02:38:36.684319Z",
     "iopub.status.busy": "2023-05-07T02:38:36.683584Z",
     "iopub.status.idle": "2023-05-07T02:39:18.510830Z",
     "shell.execute_reply": "2023-05-07T02:39:18.509600Z"
    },
    "papermill": {
     "duration": 41.84091,
     "end_time": "2023-05-07T02:39:18.517999",
     "exception": false,
     "start_time": "2023-05-07T02:38:36.677089",
     "status": "completed"
    },
    "tags": []
   },
   "outputs": [
    {
     "data": {
      "text/html": [
       "<div>\n",
       "<style scoped>\n",
       "    .dataframe tbody tr th:only-of-type {\n",
       "        vertical-align: middle;\n",
       "    }\n",
       "\n",
       "    .dataframe tbody tr th {\n",
       "        vertical-align: top;\n",
       "    }\n",
       "\n",
       "    .dataframe thead th {\n",
       "        text-align: right;\n",
       "    }\n",
       "</style>\n",
       "<table border=\"1\" class=\"dataframe\">\n",
       "  <thead>\n",
       "    <tr style=\"text-align: right;\">\n",
       "      <th></th>\n",
       "      <th>id</th>\n",
       "      <th>title</th>\n",
       "      <th>author</th>\n",
       "      <th>text</th>\n",
       "      <th>label</th>\n",
       "      <th>content</th>\n",
       "    </tr>\n",
       "  </thead>\n",
       "  <tbody>\n",
       "    <tr>\n",
       "      <th>0</th>\n",
       "      <td>0</td>\n",
       "      <td>House Dem Aide: We Didn’t Even See Comey’s Let...</td>\n",
       "      <td>Darrell Lucus</td>\n",
       "      <td>House Dem Aide: We Didn’t Even See Comey’s Let...</td>\n",
       "      <td>1</td>\n",
       "      <td>darrel lucushous dem aid even see comey letter...</td>\n",
       "    </tr>\n",
       "    <tr>\n",
       "      <th>1</th>\n",
       "      <td>1</td>\n",
       "      <td>FLYNN: Hillary Clinton, Big Woman on Campus - ...</td>\n",
       "      <td>Daniel J. Flynn</td>\n",
       "      <td>Ever get the feeling your life circles the rou...</td>\n",
       "      <td>0</td>\n",
       "      <td>daniel j flynnflynn hillari clinton big woman ...</td>\n",
       "    </tr>\n",
       "    <tr>\n",
       "      <th>2</th>\n",
       "      <td>2</td>\n",
       "      <td>Why the Truth Might Get You Fired</td>\n",
       "      <td>Consortiumnews.com</td>\n",
       "      <td>Why the Truth Might Get You Fired October 29, ...</td>\n",
       "      <td>1</td>\n",
       "      <td>consortiumnew comwhi truth might get fire</td>\n",
       "    </tr>\n",
       "    <tr>\n",
       "      <th>3</th>\n",
       "      <td>3</td>\n",
       "      <td>15 Civilians Killed In Single US Airstrike Hav...</td>\n",
       "      <td>Jessica Purkiss</td>\n",
       "      <td>Videos 15 Civilians Killed In Single US Airstr...</td>\n",
       "      <td>1</td>\n",
       "      <td>jessica purkiss civilian kill singl us airstri...</td>\n",
       "    </tr>\n",
       "    <tr>\n",
       "      <th>4</th>\n",
       "      <td>4</td>\n",
       "      <td>Iranian woman jailed for fictional unpublished...</td>\n",
       "      <td>Howard Portnoy</td>\n",
       "      <td>Print \\nAn Iranian woman has been sentenced to...</td>\n",
       "      <td>1</td>\n",
       "      <td>howard portnoyiranian woman jail fiction unpub...</td>\n",
       "    </tr>\n",
       "    <tr>\n",
       "      <th>...</th>\n",
       "      <td>...</td>\n",
       "      <td>...</td>\n",
       "      <td>...</td>\n",
       "      <td>...</td>\n",
       "      <td>...</td>\n",
       "      <td>...</td>\n",
       "    </tr>\n",
       "    <tr>\n",
       "      <th>20795</th>\n",
       "      <td>20795</td>\n",
       "      <td>Rapper T.I.: Trump a ’Poster Child For White S...</td>\n",
       "      <td>Jerome Hudson</td>\n",
       "      <td>Rapper T. I. unloaded on black celebrities who...</td>\n",
       "      <td>0</td>\n",
       "      <td>jerom hudsonrapp trump poster child white supr...</td>\n",
       "    </tr>\n",
       "    <tr>\n",
       "      <th>20796</th>\n",
       "      <td>20796</td>\n",
       "      <td>N.F.L. Playoffs: Schedule, Matchups and Odds -...</td>\n",
       "      <td>Benjamin Hoffman</td>\n",
       "      <td>When the Green Bay Packers lost to the Washing...</td>\n",
       "      <td>0</td>\n",
       "      <td>benjamin hoffmann f l playoff schedul matchup ...</td>\n",
       "    </tr>\n",
       "    <tr>\n",
       "      <th>20797</th>\n",
       "      <td>20797</td>\n",
       "      <td>Macy’s Is Said to Receive Takeover Approach by...</td>\n",
       "      <td>Michael J. de la Merced and Rachel Abrams</td>\n",
       "      <td>The Macy’s of today grew from the union of sev...</td>\n",
       "      <td>0</td>\n",
       "      <td>michael j de la merc rachel abramsmaci said re...</td>\n",
       "    </tr>\n",
       "    <tr>\n",
       "      <th>20798</th>\n",
       "      <td>20798</td>\n",
       "      <td>NATO, Russia To Hold Parallel Exercises In Bal...</td>\n",
       "      <td>Alex Ansary</td>\n",
       "      <td>NATO, Russia To Hold Parallel Exercises In Bal...</td>\n",
       "      <td>1</td>\n",
       "      <td>alex ansarynato russia hold parallel exercis b...</td>\n",
       "    </tr>\n",
       "    <tr>\n",
       "      <th>20799</th>\n",
       "      <td>20799</td>\n",
       "      <td>What Keeps the F-35 Alive</td>\n",
       "      <td>David Swanson</td>\n",
       "      <td>David Swanson is an author, activist, journa...</td>\n",
       "      <td>1</td>\n",
       "      <td>david swansonwhat keep f aliv</td>\n",
       "    </tr>\n",
       "  </tbody>\n",
       "</table>\n",
       "<p>20800 rows × 6 columns</p>\n",
       "</div>"
      ],
      "text/plain": [
       "          id                                              title  \\\n",
       "0          0  House Dem Aide: We Didn’t Even See Comey’s Let...   \n",
       "1          1  FLYNN: Hillary Clinton, Big Woman on Campus - ...   \n",
       "2          2                  Why the Truth Might Get You Fired   \n",
       "3          3  15 Civilians Killed In Single US Airstrike Hav...   \n",
       "4          4  Iranian woman jailed for fictional unpublished...   \n",
       "...      ...                                                ...   \n",
       "20795  20795  Rapper T.I.: Trump a ’Poster Child For White S...   \n",
       "20796  20796  N.F.L. Playoffs: Schedule, Matchups and Odds -...   \n",
       "20797  20797  Macy’s Is Said to Receive Takeover Approach by...   \n",
       "20798  20798  NATO, Russia To Hold Parallel Exercises In Bal...   \n",
       "20799  20799                          What Keeps the F-35 Alive   \n",
       "\n",
       "                                          author  \\\n",
       "0                                  Darrell Lucus   \n",
       "1                                Daniel J. Flynn   \n",
       "2                             Consortiumnews.com   \n",
       "3                                Jessica Purkiss   \n",
       "4                                 Howard Portnoy   \n",
       "...                                          ...   \n",
       "20795                              Jerome Hudson   \n",
       "20796                           Benjamin Hoffman   \n",
       "20797  Michael J. de la Merced and Rachel Abrams   \n",
       "20798                                Alex Ansary   \n",
       "20799                              David Swanson   \n",
       "\n",
       "                                                    text  label  \\\n",
       "0      House Dem Aide: We Didn’t Even See Comey’s Let...      1   \n",
       "1      Ever get the feeling your life circles the rou...      0   \n",
       "2      Why the Truth Might Get You Fired October 29, ...      1   \n",
       "3      Videos 15 Civilians Killed In Single US Airstr...      1   \n",
       "4      Print \\nAn Iranian woman has been sentenced to...      1   \n",
       "...                                                  ...    ...   \n",
       "20795  Rapper T. I. unloaded on black celebrities who...      0   \n",
       "20796  When the Green Bay Packers lost to the Washing...      0   \n",
       "20797  The Macy’s of today grew from the union of sev...      0   \n",
       "20798  NATO, Russia To Hold Parallel Exercises In Bal...      1   \n",
       "20799    David Swanson is an author, activist, journa...      1   \n",
       "\n",
       "                                                 content  \n",
       "0      darrel lucushous dem aid even see comey letter...  \n",
       "1      daniel j flynnflynn hillari clinton big woman ...  \n",
       "2              consortiumnew comwhi truth might get fire  \n",
       "3      jessica purkiss civilian kill singl us airstri...  \n",
       "4      howard portnoyiranian woman jail fiction unpub...  \n",
       "...                                                  ...  \n",
       "20795  jerom hudsonrapp trump poster child white supr...  \n",
       "20796  benjamin hoffmann f l playoff schedul matchup ...  \n",
       "20797  michael j de la merc rachel abramsmaci said re...  \n",
       "20798  alex ansarynato russia hold parallel exercis b...  \n",
       "20799                      david swansonwhat keep f aliv  \n",
       "\n",
       "[20800 rows x 6 columns]"
      ]
     },
     "execution_count": 11,
     "metadata": {},
     "output_type": "execute_result"
    }
   ],
   "source": [
    "news_df[\"content\"] = news_df[\"content\"].apply(stemming)\n",
    "news_df"
   ]
  },
  {
   "cell_type": "code",
   "execution_count": 12,
   "id": "66f8ea90",
   "metadata": {
    "execution": {
     "iopub.execute_input": "2023-05-07T02:39:18.530770Z",
     "iopub.status.busy": "2023-05-07T02:39:18.530360Z",
     "iopub.status.idle": "2023-05-07T02:39:18.534865Z",
     "shell.execute_reply": "2023-05-07T02:39:18.534131Z"
    },
    "papermill": {
     "duration": 0.013225,
     "end_time": "2023-05-07T02:39:18.536836",
     "exception": false,
     "start_time": "2023-05-07T02:39:18.523611",
     "status": "completed"
    },
    "tags": []
   },
   "outputs": [],
   "source": [
    "# separating the content and label\n",
    "x = news_df[\"content\"].values\n",
    "y = news_df[\"label\"].values"
   ]
  },
  {
   "cell_type": "code",
   "execution_count": 13,
   "id": "25e6b5a9",
   "metadata": {
    "execution": {
     "iopub.execute_input": "2023-05-07T02:39:18.550011Z",
     "iopub.status.busy": "2023-05-07T02:39:18.549454Z",
     "iopub.status.idle": "2023-05-07T02:39:18.554569Z",
     "shell.execute_reply": "2023-05-07T02:39:18.553828Z"
    },
    "papermill": {
     "duration": 0.013786,
     "end_time": "2023-05-07T02:39:18.556374",
     "exception": false,
     "start_time": "2023-05-07T02:39:18.542588",
     "status": "completed"
    },
    "tags": []
   },
   "outputs": [
    {
     "data": {
      "text/plain": [
       "array([1, 0, 1, ..., 0, 1, 1])"
      ]
     },
     "execution_count": 13,
     "metadata": {},
     "output_type": "execute_result"
    }
   ],
   "source": [
    "y"
   ]
  },
  {
   "cell_type": "code",
   "execution_count": 14,
   "id": "aae5150a",
   "metadata": {
    "execution": {
     "iopub.execute_input": "2023-05-07T02:39:18.569732Z",
     "iopub.status.busy": "2023-05-07T02:39:18.569161Z",
     "iopub.status.idle": "2023-05-07T02:39:19.123201Z",
     "shell.execute_reply": "2023-05-07T02:39:19.122142Z"
    },
    "papermill": {
     "duration": 0.563391,
     "end_time": "2023-05-07T02:39:19.125473",
     "exception": false,
     "start_time": "2023-05-07T02:39:18.562082",
     "status": "completed"
    },
    "tags": []
   },
   "outputs": [
    {
     "data": {
      "text/plain": [
       "<20800x28419 sparse matrix of type '<class 'numpy.float64'>'\n",
       "\twith 198373 stored elements in Compressed Sparse Row format>"
      ]
     },
     "execution_count": 14,
     "metadata": {},
     "output_type": "execute_result"
    }
   ],
   "source": [
    "# convert the textual data to numerical data\n",
    "vectorizer = TfidfVectorizer()\n",
    "vectorizer.fit(x)\n",
    "\n",
    "x = vectorizer.transform(x)\n",
    "\n",
    "x\n"
   ]
  }
 ],
 "metadata": {
  "kernelspec": {
   "display_name": "Python 3",
   "language": "python",
   "name": "python3"
  },
  "language_info": {
   "codemirror_mode": {
    "name": "ipython",
    "version": 3
   },
   "file_extension": ".py",
   "mimetype": "text/x-python",
   "name": "python",
   "nbconvert_exporter": "python",
   "pygments_lexer": "ipython3",
   "version": "3.10.10"
  },
  "papermill": {
   "default_parameters": {},
   "duration": 58.650878,
   "end_time": "2023-05-07T02:39:20.153197",
   "environment_variables": {},
   "exception": null,
   "input_path": "__notebook__.ipynb",
   "output_path": "__notebook__.ipynb",
   "parameters": {},
   "start_time": "2023-05-07T02:38:21.502319",
   "version": "2.4.0"
  }
 },
 "nbformat": 4,
 "nbformat_minor": 5
}
